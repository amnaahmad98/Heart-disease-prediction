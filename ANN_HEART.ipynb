{
 "cells": [
  {
   "cell_type": "code",
   "execution_count": 1,
   "id": "fc384b91",
   "metadata": {},
   "outputs": [],
   "source": [
    "import numpy as np\n",
    "import pandas as pd\n",
    "from sklearn.model_selection import train_test_split"
   ]
  },
  {
   "cell_type": "code",
   "execution_count": 2,
   "id": "853a76d2",
   "metadata": {},
   "outputs": [
    {
     "name": "stdout",
     "output_type": "stream",
     "text": [
      "Requirement already satisfied: tensorflow in c:\\users\\sobo\\anaconda3\\lib\\site-packages (2.13.0)\n",
      "Requirement already satisfied: tensorflow-intel==2.13.0 in c:\\users\\sobo\\anaconda3\\lib\\site-packages (from tensorflow) (2.13.0)\n",
      "Requirement already satisfied: google-pasta>=0.1.1 in c:\\users\\sobo\\anaconda3\\lib\\site-packages (from tensorflow-intel==2.13.0->tensorflow) (0.2.0)\n",
      "Requirement already satisfied: termcolor>=1.1.0 in c:\\users\\sobo\\anaconda3\\lib\\site-packages (from tensorflow-intel==2.13.0->tensorflow) (2.3.0)\n",
      "Requirement already satisfied: tensorflow-io-gcs-filesystem>=0.23.1 in c:\\users\\sobo\\anaconda3\\lib\\site-packages (from tensorflow-intel==2.13.0->tensorflow) (0.31.0)\n",
      "Requirement already satisfied: astunparse>=1.6.0 in c:\\users\\sobo\\anaconda3\\lib\\site-packages (from tensorflow-intel==2.13.0->tensorflow) (1.6.3)\n",
      "Requirement already satisfied: absl-py>=1.0.0 in c:\\users\\sobo\\anaconda3\\lib\\site-packages (from tensorflow-intel==2.13.0->tensorflow) (1.4.0)\n",
      "Requirement already satisfied: h5py>=2.9.0 in c:\\users\\sobo\\anaconda3\\lib\\site-packages (from tensorflow-intel==2.13.0->tensorflow) (3.7.0)\n",
      "Requirement already satisfied: tensorboard<2.14,>=2.13 in c:\\users\\sobo\\anaconda3\\lib\\site-packages (from tensorflow-intel==2.13.0->tensorflow) (2.13.0)\n",
      "Requirement already satisfied: packaging in c:\\users\\sobo\\anaconda3\\lib\\site-packages (from tensorflow-intel==2.13.0->tensorflow) (22.0)\n",
      "Requirement already satisfied: libclang>=13.0.0 in c:\\users\\sobo\\anaconda3\\lib\\site-packages (from tensorflow-intel==2.13.0->tensorflow) (16.0.6)\n",
      "Requirement already satisfied: tensorflow-estimator<2.14,>=2.13.0 in c:\\users\\sobo\\anaconda3\\lib\\site-packages (from tensorflow-intel==2.13.0->tensorflow) (2.13.0)\n",
      "Requirement already satisfied: opt-einsum>=2.3.2 in c:\\users\\sobo\\anaconda3\\lib\\site-packages (from tensorflow-intel==2.13.0->tensorflow) (3.3.0)\n",
      "Requirement already satisfied: typing-extensions<4.6.0,>=3.6.6 in c:\\users\\sobo\\anaconda3\\lib\\site-packages (from tensorflow-intel==2.13.0->tensorflow) (4.4.0)\n",
      "Requirement already satisfied: six>=1.12.0 in c:\\users\\sobo\\anaconda3\\lib\\site-packages (from tensorflow-intel==2.13.0->tensorflow) (1.16.0)\n",
      "Requirement already satisfied: flatbuffers>=23.1.21 in c:\\users\\sobo\\anaconda3\\lib\\site-packages (from tensorflow-intel==2.13.0->tensorflow) (23.5.26)\n",
      "Requirement already satisfied: gast<=0.4.0,>=0.2.1 in c:\\users\\sobo\\anaconda3\\lib\\site-packages (from tensorflow-intel==2.13.0->tensorflow) (0.4.0)\n",
      "Requirement already satisfied: setuptools in c:\\users\\sobo\\anaconda3\\lib\\site-packages (from tensorflow-intel==2.13.0->tensorflow) (65.6.3)\n",
      "Requirement already satisfied: keras<2.14,>=2.13.1 in c:\\users\\sobo\\anaconda3\\lib\\site-packages (from tensorflow-intel==2.13.0->tensorflow) (2.13.1)\n",
      "Requirement already satisfied: grpcio<2.0,>=1.24.3 in c:\\users\\sobo\\anaconda3\\lib\\site-packages (from tensorflow-intel==2.13.0->tensorflow) (1.56.2)\n",
      "Requirement already satisfied: numpy<=1.24.3,>=1.22 in c:\\users\\sobo\\anaconda3\\lib\\site-packages (from tensorflow-intel==2.13.0->tensorflow) (1.23.5)\n",
      "Requirement already satisfied: protobuf!=4.21.0,!=4.21.1,!=4.21.2,!=4.21.3,!=4.21.4,!=4.21.5,<5.0.0dev,>=3.20.3 in c:\\users\\sobo\\anaconda3\\lib\\site-packages (from tensorflow-intel==2.13.0->tensorflow) (4.23.4)\n",
      "Requirement already satisfied: wrapt>=1.11.0 in c:\\users\\sobo\\anaconda3\\lib\\site-packages (from tensorflow-intel==2.13.0->tensorflow) (1.14.1)\n",
      "Requirement already satisfied: wheel<1.0,>=0.23.0 in c:\\users\\sobo\\anaconda3\\lib\\site-packages (from astunparse>=1.6.0->tensorflow-intel==2.13.0->tensorflow) (0.38.4)\n",
      "Requirement already satisfied: tensorboard-data-server<0.8.0,>=0.7.0 in c:\\users\\sobo\\anaconda3\\lib\\site-packages (from tensorboard<2.14,>=2.13->tensorflow-intel==2.13.0->tensorflow) (0.7.1)\n",
      "Requirement already satisfied: google-auth<3,>=1.6.3 in c:\\users\\sobo\\anaconda3\\lib\\site-packages (from tensorboard<2.14,>=2.13->tensorflow-intel==2.13.0->tensorflow) (2.22.0)\n",
      "Requirement already satisfied: google-auth-oauthlib<1.1,>=0.5 in c:\\users\\sobo\\anaconda3\\lib\\site-packages (from tensorboard<2.14,>=2.13->tensorflow-intel==2.13.0->tensorflow) (1.0.0)\n",
      "Requirement already satisfied: markdown>=2.6.8 in c:\\users\\sobo\\anaconda3\\lib\\site-packages (from tensorboard<2.14,>=2.13->tensorflow-intel==2.13.0->tensorflow) (3.4.1)\n",
      "Requirement already satisfied: requests<3,>=2.21.0 in c:\\users\\sobo\\anaconda3\\lib\\site-packages (from tensorboard<2.14,>=2.13->tensorflow-intel==2.13.0->tensorflow) (2.28.1)\n",
      "Requirement already satisfied: werkzeug>=1.0.1 in c:\\users\\sobo\\anaconda3\\lib\\site-packages (from tensorboard<2.14,>=2.13->tensorflow-intel==2.13.0->tensorflow) (2.2.2)\n",
      "Requirement already satisfied: pyasn1-modules>=0.2.1 in c:\\users\\sobo\\anaconda3\\lib\\site-packages (from google-auth<3,>=1.6.3->tensorboard<2.14,>=2.13->tensorflow-intel==2.13.0->tensorflow) (0.2.8)\n",
      "Requirement already satisfied: urllib3<2.0 in c:\\users\\sobo\\anaconda3\\lib\\site-packages (from google-auth<3,>=1.6.3->tensorboard<2.14,>=2.13->tensorflow-intel==2.13.0->tensorflow) (1.26.14)\n",
      "Requirement already satisfied: cachetools<6.0,>=2.0.0 in c:\\users\\sobo\\anaconda3\\lib\\site-packages (from google-auth<3,>=1.6.3->tensorboard<2.14,>=2.13->tensorflow-intel==2.13.0->tensorflow) (5.3.1)\n",
      "Requirement already satisfied: rsa<5,>=3.1.4 in c:\\users\\sobo\\anaconda3\\lib\\site-packages (from google-auth<3,>=1.6.3->tensorboard<2.14,>=2.13->tensorflow-intel==2.13.0->tensorflow) (4.9)\n",
      "Requirement already satisfied: requests-oauthlib>=0.7.0 in c:\\users\\sobo\\anaconda3\\lib\\site-packages (from google-auth-oauthlib<1.1,>=0.5->tensorboard<2.14,>=2.13->tensorflow-intel==2.13.0->tensorflow) (1.3.1)\n",
      "Requirement already satisfied: charset-normalizer<3,>=2 in c:\\users\\sobo\\anaconda3\\lib\\site-packages (from requests<3,>=2.21.0->tensorboard<2.14,>=2.13->tensorflow-intel==2.13.0->tensorflow) (2.0.4)\n",
      "Requirement already satisfied: certifi>=2017.4.17 in c:\\users\\sobo\\anaconda3\\lib\\site-packages (from requests<3,>=2.21.0->tensorboard<2.14,>=2.13->tensorflow-intel==2.13.0->tensorflow) (2022.12.7)\n",
      "Requirement already satisfied: idna<4,>=2.5 in c:\\users\\sobo\\anaconda3\\lib\\site-packages (from requests<3,>=2.21.0->tensorboard<2.14,>=2.13->tensorflow-intel==2.13.0->tensorflow) (3.4)\n",
      "Requirement already satisfied: MarkupSafe>=2.1.1 in c:\\users\\sobo\\anaconda3\\lib\\site-packages (from werkzeug>=1.0.1->tensorboard<2.14,>=2.13->tensorflow-intel==2.13.0->tensorflow) (2.1.1)\n",
      "Requirement already satisfied: pyasn1<0.5.0,>=0.4.6 in c:\\users\\sobo\\anaconda3\\lib\\site-packages (from pyasn1-modules>=0.2.1->google-auth<3,>=1.6.3->tensorboard<2.14,>=2.13->tensorflow-intel==2.13.0->tensorflow) (0.4.8)\n",
      "Requirement already satisfied: oauthlib>=3.0.0 in c:\\users\\sobo\\anaconda3\\lib\\site-packages (from requests-oauthlib>=0.7.0->google-auth-oauthlib<1.1,>=0.5->tensorboard<2.14,>=2.13->tensorflow-intel==2.13.0->tensorflow) (3.2.2)\n"
     ]
    }
   ],
   "source": [
    "!pip install tensorflow"
   ]
  },
  {
   "cell_type": "code",
   "execution_count": 3,
   "id": "381b1f91",
   "metadata": {},
   "outputs": [],
   "source": [
    "import tensorflow as tf"
   ]
  },
  {
   "cell_type": "code",
   "execution_count": 5,
   "id": "723194ca",
   "metadata": {},
   "outputs": [],
   "source": [
    "heart_data=pd.read_csv('heart_disease_health_indicators_BRFSS2015.csv')"
   ]
  },
  {
   "cell_type": "code",
   "execution_count": 6,
   "id": "35130aa3",
   "metadata": {},
   "outputs": [],
   "source": [
    "X = heart_data.drop(columns=['HeartDiseaseorAttack'])"
   ]
  },
  {
   "cell_type": "code",
   "execution_count": 7,
   "id": "45ff3774",
   "metadata": {},
   "outputs": [],
   "source": [
    "Y = heart_data['HeartDiseaseorAttack']"
   ]
  },
  {
   "cell_type": "code",
   "execution_count": 8,
   "id": "8d54053e",
   "metadata": {},
   "outputs": [],
   "source": [
    "X_train,X_test, Y_train,Y_test=train_test_split(X,Y,test_size=0.2)"
   ]
  },
  {
   "cell_type": "code",
   "execution_count": 9,
   "id": "f0dd0b13",
   "metadata": {},
   "outputs": [],
   "source": [
    "from sklearn.preprocessing import StandardScaler\n",
    "sc = StandardScaler()\n",
    "X_train = sc.fit_transform(X_train)\n",
    "X_test = sc.transform(X_test)"
   ]
  },
  {
   "cell_type": "code",
   "execution_count": 10,
   "id": "9d520669",
   "metadata": {},
   "outputs": [],
   "source": [
    "ann = tf.keras.models.Sequential()"
   ]
  },
  {
   "cell_type": "code",
   "execution_count": 11,
   "id": "6a46e1be",
   "metadata": {},
   "outputs": [],
   "source": [
    "ann.add(tf.keras.layers.Dense(units=6,activation=\"relu\"))"
   ]
  },
  {
   "cell_type": "code",
   "execution_count": 12,
   "id": "5a784400",
   "metadata": {},
   "outputs": [],
   "source": [
    "ann.add(tf.keras.layers.Dense(units=6,activation=\"relu\"))"
   ]
  },
  {
   "cell_type": "code",
   "execution_count": 13,
   "id": "ec3e0561",
   "metadata": {},
   "outputs": [],
   "source": [
    " #Adding Output Layer\n",
    "ann.add(tf.keras.layers.Dense(units=1,activation=\"sigmoid\"))"
   ]
  },
  {
   "cell_type": "code",
   "execution_count": 14,
   "id": "5d36dfcb",
   "metadata": {},
   "outputs": [],
   "source": [
    "#Compiling ANN\n",
    "ann.compile(optimizer=\"adam\",loss=\"binary_crossentropy\",metrics=['accuracy'])"
   ]
  },
  {
   "cell_type": "code",
   "execution_count": 15,
   "id": "5cd43a60",
   "metadata": {
    "scrolled": false
   },
   "outputs": [
    {
     "name": "stdout",
     "output_type": "stream",
     "text": [
      "Epoch 1/100\n",
      "6342/6342 [==============================] - 5s 650us/step - loss: 0.2544 - accuracy: 0.9025\n",
      "Epoch 2/100\n",
      "6342/6342 [==============================] - 4s 653us/step - loss: 0.2384 - accuracy: 0.9072\n",
      "Epoch 3/100\n",
      "6342/6342 [==============================] - 4s 657us/step - loss: 0.2376 - accuracy: 0.9078\n",
      "Epoch 4/100\n",
      "6342/6342 [==============================] - 4s 659us/step - loss: 0.2371 - accuracy: 0.9078\n",
      "Epoch 5/100\n",
      "6342/6342 [==============================] - 4s 663us/step - loss: 0.2370 - accuracy: 0.9079\n",
      "Epoch 6/100\n",
      "6342/6342 [==============================] - 4s 661us/step - loss: 0.2368 - accuracy: 0.9078\n",
      "Epoch 7/100\n",
      "6342/6342 [==============================] - 4s 664us/step - loss: 0.2367 - accuracy: 0.9079\n",
      "Epoch 8/100\n",
      "6342/6342 [==============================] - 4s 649us/step - loss: 0.2367 - accuracy: 0.9080\n",
      "Epoch 9/100\n",
      "6342/6342 [==============================] - 4s 647us/step - loss: 0.2367 - accuracy: 0.9079\n",
      "Epoch 10/100\n",
      "6342/6342 [==============================] - 4s 655us/step - loss: 0.2367 - accuracy: 0.9079\n",
      "Epoch 11/100\n",
      "6342/6342 [==============================] - 4s 646us/step - loss: 0.2366 - accuracy: 0.9080\n",
      "Epoch 12/100\n",
      "6342/6342 [==============================] - 4s 646us/step - loss: 0.2366 - accuracy: 0.9078\n",
      "Epoch 13/100\n",
      "6342/6342 [==============================] - 4s 646us/step - loss: 0.2365 - accuracy: 0.9080\n",
      "Epoch 14/100\n",
      "6342/6342 [==============================] - 4s 672us/step - loss: 0.2365 - accuracy: 0.9081\n",
      "Epoch 15/100\n",
      "6342/6342 [==============================] - 4s 641us/step - loss: 0.2365 - accuracy: 0.9080\n",
      "Epoch 16/100\n",
      "6342/6342 [==============================] - 4s 640us/step - loss: 0.2365 - accuracy: 0.9080\n",
      "Epoch 17/100\n",
      "6342/6342 [==============================] - 4s 640us/step - loss: 0.2364 - accuracy: 0.9080\n",
      "Epoch 18/100\n",
      "6342/6342 [==============================] - 4s 660us/step - loss: 0.2364 - accuracy: 0.9080\n",
      "Epoch 19/100\n",
      "6342/6342 [==============================] - 4s 656us/step - loss: 0.2364 - accuracy: 0.9080\n",
      "Epoch 20/100\n",
      "6342/6342 [==============================] - 4s 664us/step - loss: 0.2364 - accuracy: 0.9081\n",
      "Epoch 21/100\n",
      "6342/6342 [==============================] - 4s 647us/step - loss: 0.2363 - accuracy: 0.9081\n",
      "Epoch 22/100\n",
      "6342/6342 [==============================] - 4s 662us/step - loss: 0.2364 - accuracy: 0.9079\n",
      "Epoch 23/100\n",
      "6342/6342 [==============================] - 4s 645us/step - loss: 0.2364 - accuracy: 0.9081\n",
      "Epoch 24/100\n",
      "6342/6342 [==============================] - 4s 649us/step - loss: 0.2363 - accuracy: 0.9081\n",
      "Epoch 25/100\n",
      "6342/6342 [==============================] - 4s 646us/step - loss: 0.2364 - accuracy: 0.9081\n",
      "Epoch 26/100\n",
      "6342/6342 [==============================] - 4s 657us/step - loss: 0.2363 - accuracy: 0.9081\n",
      "Epoch 27/100\n",
      "6342/6342 [==============================] - 4s 650us/step - loss: 0.2363 - accuracy: 0.9082\n",
      "Epoch 28/100\n",
      "6342/6342 [==============================] - 4s 651us/step - loss: 0.2362 - accuracy: 0.9079\n",
      "Epoch 29/100\n",
      "6342/6342 [==============================] - 4s 657us/step - loss: 0.2362 - accuracy: 0.9081\n",
      "Epoch 30/100\n",
      "6342/6342 [==============================] - 4s 659us/step - loss: 0.2362 - accuracy: 0.9081\n",
      "Epoch 31/100\n",
      "6342/6342 [==============================] - 4s 650us/step - loss: 0.2361 - accuracy: 0.9081\n",
      "Epoch 32/100\n",
      "6342/6342 [==============================] - 4s 650us/step - loss: 0.2362 - accuracy: 0.9083\n",
      "Epoch 33/100\n",
      "6342/6342 [==============================] - 4s 653us/step - loss: 0.2361 - accuracy: 0.9081\n",
      "Epoch 34/100\n",
      "6342/6342 [==============================] - 4s 651us/step - loss: 0.2362 - accuracy: 0.9082\n",
      "Epoch 35/100\n",
      "6342/6342 [==============================] - 4s 644us/step - loss: 0.2361 - accuracy: 0.9081\n",
      "Epoch 36/100\n",
      "6342/6342 [==============================] - 4s 644us/step - loss: 0.2361 - accuracy: 0.9082\n",
      "Epoch 37/100\n",
      "6342/6342 [==============================] - 4s 654us/step - loss: 0.2360 - accuracy: 0.9082\n",
      "Epoch 38/100\n",
      "6342/6342 [==============================] - 4s 651us/step - loss: 0.2361 - accuracy: 0.9082\n",
      "Epoch 39/100\n",
      "6342/6342 [==============================] - 4s 646us/step - loss: 0.2361 - accuracy: 0.9082\n",
      "Epoch 40/100\n",
      "6342/6342 [==============================] - 4s 647us/step - loss: 0.2360 - accuracy: 0.9082\n",
      "Epoch 41/100\n",
      "6342/6342 [==============================] - 4s 651us/step - loss: 0.2361 - accuracy: 0.9081\n",
      "Epoch 42/100\n",
      "6342/6342 [==============================] - 4s 642us/step - loss: 0.2361 - accuracy: 0.9082\n",
      "Epoch 43/100\n",
      "6342/6342 [==============================] - 4s 641us/step - loss: 0.2361 - accuracy: 0.9081\n",
      "Epoch 44/100\n",
      "6342/6342 [==============================] - 4s 663us/step - loss: 0.2361 - accuracy: 0.9081\n",
      "Epoch 45/100\n",
      "6342/6342 [==============================] - 4s 660us/step - loss: 0.2361 - accuracy: 0.9083\n",
      "Epoch 46/100\n",
      "6342/6342 [==============================] - 4s 660us/step - loss: 0.2361 - accuracy: 0.9082\n",
      "Epoch 47/100\n",
      "6342/6342 [==============================] - 4s 648us/step - loss: 0.2361 - accuracy: 0.9081\n",
      "Epoch 48/100\n",
      "6342/6342 [==============================] - 4s 647us/step - loss: 0.2360 - accuracy: 0.9081\n",
      "Epoch 49/100\n",
      "6342/6342 [==============================] - 4s 659us/step - loss: 0.2360 - accuracy: 0.9082\n",
      "Epoch 50/100\n",
      "6342/6342 [==============================] - 4s 647us/step - loss: 0.2359 - accuracy: 0.9081\n",
      "Epoch 51/100\n",
      "6342/6342 [==============================] - 4s 646us/step - loss: 0.2360 - accuracy: 0.9081\n",
      "Epoch 52/100\n",
      "6342/6342 [==============================] - 4s 651us/step - loss: 0.2360 - accuracy: 0.9083\n",
      "Epoch 53/100\n",
      "6342/6342 [==============================] - 4s 658us/step - loss: 0.2360 - accuracy: 0.9083\n",
      "Epoch 54/100\n",
      "6342/6342 [==============================] - 4s 652us/step - loss: 0.2360 - accuracy: 0.9082\n",
      "Epoch 55/100\n",
      "6342/6342 [==============================] - 4s 647us/step - loss: 0.2360 - accuracy: 0.9082\n",
      "Epoch 56/100\n",
      "6342/6342 [==============================] - 4s 647us/step - loss: 0.2360 - accuracy: 0.9079\n",
      "Epoch 57/100\n",
      "6342/6342 [==============================] - 4s 654us/step - loss: 0.2360 - accuracy: 0.9083\n",
      "Epoch 58/100\n",
      "6342/6342 [==============================] - 4s 647us/step - loss: 0.2360 - accuracy: 0.9082\n",
      "Epoch 59/100\n",
      "6342/6342 [==============================] - 4s 650us/step - loss: 0.2360 - accuracy: 0.9083\n",
      "Epoch 60/100\n",
      "6342/6342 [==============================] - 4s 652us/step - loss: 0.2360 - accuracy: 0.9083\n",
      "Epoch 61/100\n",
      "6342/6342 [==============================] - 4s 661us/step - loss: 0.2360 - accuracy: 0.9082\n",
      "Epoch 62/100\n",
      "6342/6342 [==============================] - 4s 656us/step - loss: 0.2360 - accuracy: 0.9082\n",
      "Epoch 63/100\n",
      "6342/6342 [==============================] - 4s 658us/step - loss: 0.2360 - accuracy: 0.9083\n",
      "Epoch 64/100\n",
      "6342/6342 [==============================] - 4s 651us/step - loss: 0.2360 - accuracy: 0.9082\n",
      "Epoch 65/100\n",
      "6342/6342 [==============================] - 4s 648us/step - loss: 0.2360 - accuracy: 0.9083\n",
      "Epoch 66/100\n",
      "6342/6342 [==============================] - 4s 648us/step - loss: 0.2360 - accuracy: 0.9083\n",
      "Epoch 67/100\n",
      "6342/6342 [==============================] - 4s 648us/step - loss: 0.2360 - accuracy: 0.9081\n",
      "Epoch 68/100\n",
      "6342/6342 [==============================] - 4s 654us/step - loss: 0.2360 - accuracy: 0.9082\n",
      "Epoch 69/100\n",
      "6342/6342 [==============================] - 4s 649us/step - loss: 0.2359 - accuracy: 0.9081\n",
      "Epoch 70/100\n",
      "6342/6342 [==============================] - 4s 643us/step - loss: 0.2360 - accuracy: 0.9081\n",
      "Epoch 71/100\n",
      "6342/6342 [==============================] - 4s 643us/step - loss: 0.2360 - accuracy: 0.9084\n",
      "Epoch 72/100\n",
      "6342/6342 [==============================] - 4s 649us/step - loss: 0.2359 - accuracy: 0.9083\n",
      "Epoch 73/100\n",
      "6342/6342 [==============================] - 4s 657us/step - loss: 0.2359 - accuracy: 0.9084\n",
      "Epoch 74/100\n",
      "6342/6342 [==============================] - 4s 643us/step - loss: 0.2360 - accuracy: 0.9081\n",
      "Epoch 75/100\n",
      "6342/6342 [==============================] - 4s 644us/step - loss: 0.2359 - accuracy: 0.9083\n",
      "Epoch 76/100\n",
      "6342/6342 [==============================] - 4s 651us/step - loss: 0.2359 - accuracy: 0.9083\n",
      "Epoch 77/100\n",
      "6342/6342 [==============================] - 4s 655us/step - loss: 0.2360 - accuracy: 0.9083\n",
      "Epoch 78/100\n"
     ]
    },
    {
     "name": "stdout",
     "output_type": "stream",
     "text": [
      "6342/6342 [==============================] - 4s 652us/step - loss: 0.2360 - accuracy: 0.9083\n",
      "Epoch 79/100\n",
      "6342/6342 [==============================] - 4s 654us/step - loss: 0.2360 - accuracy: 0.9081\n",
      "Epoch 80/100\n",
      "6342/6342 [==============================] - 4s 700us/step - loss: 0.2359 - accuracy: 0.9082\n",
      "Epoch 81/100\n",
      "6342/6342 [==============================] - 5s 730us/step - loss: 0.2360 - accuracy: 0.9084\n",
      "Epoch 82/100\n",
      "6342/6342 [==============================] - 5s 767us/step - loss: 0.2360 - accuracy: 0.9082\n",
      "Epoch 83/100\n",
      "6342/6342 [==============================] - 5s 727us/step - loss: 0.2360 - accuracy: 0.9081\n",
      "Epoch 84/100\n",
      "6342/6342 [==============================] - 5s 740us/step - loss: 0.2360 - accuracy: 0.9081\n",
      "Epoch 85/100\n",
      "6342/6342 [==============================] - 4s 663us/step - loss: 0.2359 - accuracy: 0.9083\n",
      "Epoch 86/100\n",
      "6342/6342 [==============================] - 4s 664us/step - loss: 0.2359 - accuracy: 0.9083\n",
      "Epoch 87/100\n",
      "6342/6342 [==============================] - 5s 743us/step - loss: 0.2360 - accuracy: 0.9081\n",
      "Epoch 88/100\n",
      "6342/6342 [==============================] - 4s 657us/step - loss: 0.2359 - accuracy: 0.9083\n",
      "Epoch 89/100\n",
      "6342/6342 [==============================] - 4s 641us/step - loss: 0.2359 - accuracy: 0.9084\n",
      "Epoch 90/100\n",
      "6342/6342 [==============================] - 4s 661us/step - loss: 0.2360 - accuracy: 0.9083\n",
      "Epoch 91/100\n",
      "6342/6342 [==============================] - 4s 653us/step - loss: 0.2359 - accuracy: 0.9081\n",
      "Epoch 92/100\n",
      "6342/6342 [==============================] - 4s 648us/step - loss: 0.2359 - accuracy: 0.9082\n",
      "Epoch 93/100\n",
      "6342/6342 [==============================] - 4s 648us/step - loss: 0.2360 - accuracy: 0.9080\n",
      "Epoch 94/100\n",
      "6342/6342 [==============================] - 4s 661us/step - loss: 0.2359 - accuracy: 0.9082\n",
      "Epoch 95/100\n",
      "6342/6342 [==============================] - 4s 655us/step - loss: 0.2359 - accuracy: 0.9081\n",
      "Epoch 96/100\n",
      "6342/6342 [==============================] - 4s 643us/step - loss: 0.2359 - accuracy: 0.9081\n",
      "Epoch 97/100\n",
      "6342/6342 [==============================] - 4s 638us/step - loss: 0.2359 - accuracy: 0.9082\n",
      "Epoch 98/100\n",
      "6342/6342 [==============================] - 4s 650us/step - loss: 0.2360 - accuracy: 0.9082\n",
      "Epoch 99/100\n",
      "6342/6342 [==============================] - 4s 647us/step - loss: 0.2359 - accuracy: 0.9083\n",
      "Epoch 100/100\n",
      "6342/6342 [==============================] - 4s 668us/step - loss: 0.2360 - accuracy: 0.9082\n"
     ]
    },
    {
     "data": {
      "text/plain": [
       "<keras.src.callbacks.History at 0x1d192118b80>"
      ]
     },
     "execution_count": 15,
     "metadata": {},
     "output_type": "execute_result"
    }
   ],
   "source": [
    "#Fitting ANN\n",
    "ann.fit(X_train,Y_train,batch_size=32,epochs = 100)"
   ]
  },
  {
   "cell_type": "code",
   "execution_count": 16,
   "id": "46cb56cd",
   "metadata": {},
   "outputs": [
    {
     "ename": "ImportError",
     "evalue": "cannot import name 'plot_confusion_matrix' from 'sklearn.metrics' (C:\\Users\\sobo\\anaconda3\\lib\\site-packages\\sklearn\\metrics\\__init__.py)",
     "output_type": "error",
     "traceback": [
      "\u001b[1;31m---------------------------------------------------------------------------\u001b[0m",
      "\u001b[1;31mImportError\u001b[0m                               Traceback (most recent call last)",
      "Cell \u001b[1;32mIn[16], line 3\u001b[0m\n\u001b[0;32m      1\u001b[0m \u001b[38;5;28;01mfrom\u001b[39;00m \u001b[38;5;21;01msklearn\u001b[39;00m\u001b[38;5;21;01m.\u001b[39;00m\u001b[38;5;21;01mmetrics\u001b[39;00m \u001b[38;5;28;01mimport\u001b[39;00m classification_report\n\u001b[0;32m      2\u001b[0m \u001b[38;5;28;01mfrom\u001b[39;00m \u001b[38;5;21;01msklearn\u001b[39;00m\u001b[38;5;21;01m.\u001b[39;00m\u001b[38;5;21;01mmetrics\u001b[39;00m \u001b[38;5;28;01mimport\u001b[39;00m accuracy_score\n\u001b[1;32m----> 3\u001b[0m \u001b[38;5;28;01mfrom\u001b[39;00m \u001b[38;5;21;01msklearn\u001b[39;00m\u001b[38;5;21;01m.\u001b[39;00m\u001b[38;5;21;01mmetrics\u001b[39;00m \u001b[38;5;28;01mimport\u001b[39;00m plot_confusion_matrix\n",
      "\u001b[1;31mImportError\u001b[0m: cannot import name 'plot_confusion_matrix' from 'sklearn.metrics' (C:\\Users\\sobo\\anaconda3\\lib\\site-packages\\sklearn\\metrics\\__init__.py)"
     ]
    }
   ],
   "source": [
    "from sklearn.metrics import classification_report\n",
    "from sklearn.metrics import accuracy_score\n",
    "from sklearn.metrics import plot_confusion_matrix"
   ]
  },
  {
   "cell_type": "code",
   "execution_count": 17,
   "id": "8c5ab06d",
   "metadata": {},
   "outputs": [
    {
     "name": "stdout",
     "output_type": "stream",
     "text": [
      "1586/1586 [==============================] - 1s 505us/step\n"
     ]
    }
   ],
   "source": [
    "predictions=ann.predict(X_test).round() "
   ]
  },
  {
   "cell_type": "code",
   "execution_count": 18,
   "id": "e411ea69",
   "metadata": {},
   "outputs": [],
   "source": [
    "from sklearn.metrics import classification_report"
   ]
  },
  {
   "cell_type": "code",
   "execution_count": 19,
   "id": "1f9d2505",
   "metadata": {},
   "outputs": [],
   "source": [
    "from sklearn.metrics import confusion_matrix"
   ]
  },
  {
   "cell_type": "code",
   "execution_count": 20,
   "id": "0fe8df87",
   "metadata": {},
   "outputs": [
    {
     "data": {
      "text/plain": [
       "array([[45441,   481],\n",
       "       [ 4166,   648]], dtype=int64)"
      ]
     },
     "execution_count": 20,
     "metadata": {},
     "output_type": "execute_result"
    }
   ],
   "source": [
    "confusion_matrix(Y_test,predictions)"
   ]
  },
  {
   "cell_type": "code",
   "execution_count": 21,
   "id": "c34110c8",
   "metadata": {},
   "outputs": [],
   "source": [
    "cm=confusion_matrix(Y_test,predictions)"
   ]
  },
  {
   "cell_type": "code",
   "execution_count": 22,
   "id": "f04c8c37",
   "metadata": {},
   "outputs": [
    {
     "name": "stdout",
     "output_type": "stream",
     "text": [
      "              precision    recall  f1-score   support\n",
      "\n",
      "           0       0.92      0.99      0.95     45922\n",
      "           1       0.57      0.13      0.22      4814\n",
      "\n",
      "    accuracy                           0.91     50736\n",
      "   macro avg       0.74      0.56      0.58     50736\n",
      "weighted avg       0.88      0.91      0.88     50736\n",
      "\n"
     ]
    }
   ],
   "source": [
    "print(classification_report(Y_test,predictions))"
   ]
  },
  {
   "cell_type": "code",
   "execution_count": 23,
   "id": "1137596d",
   "metadata": {},
   "outputs": [
    {
     "data": {
      "image/png": "[encoded data removed]",
      "text/plain": [
       "<Figure size 640x480 with 2 Axes>"
      ]
     },
     "metadata": {},
     "output_type": "display_data"
    }
   ],
   "source": [
    "import seaborn as sns\n",
    "from sklearn.metrics import confusion_matrix\n",
    "\n",
    "\n",
    "f = sns.heatmap(cm, annot=True, fmt='d')"
   ]
  },
  {
   "cell_type": "code",
   "execution_count": 24,
   "id": "b1ac260b",
   "metadata": {},
   "outputs": [
    {
     "name": "stdout",
     "output_type": "stream",
     "text": [
      "<sklearn.metrics._plot.confusion_matrix.ConfusionMatrixDisplay object at 0x000001D1A6F10880>\n"
     ]
    }
   ],
   "source": [
    "import matplotlib.pyplot as plt\n",
    "from sklearn.metrics import ConfusionMatrixDisplay\n",
    "\n",
    "print(ConfusionMatrixDisplay(confusion_matrix=cm,display_labels = ['No', 'Yes']))\n"
   ]
  },
  {
   "cell_type": "code",
   "execution_count": 25,
   "id": "19e52e01",
   "metadata": {},
   "outputs": [
    {
     "data": {
      "text/plain": [
       "<sklearn.metrics._plot.confusion_matrix.ConfusionMatrixDisplay at 0x1d192937be0>"
      ]
     },
     "execution_count": 25,
     "metadata": {},
     "output_type": "execute_result"
    },
    {
     "data": {
      "image/png": "[encoded data removed]",
      "text/plain": [
       "<Figure size 640x480 with 2 Axes>"
      ]
     },
     "metadata": {},
     "output_type": "display_data"
    }
   ],
   "source": [
    "ConfusionMatrixDisplay; disp = ConfusionMatrixDisplay(confusion_matrix=np.asarray([[45788,   241],\n",
    "       [ 4415,   292]]), display_labels= np.asarray(['No','Yes'])) ;  disp.plot()"
   ]
  },
  {
   "cell_type": "code",
   "execution_count": 26,
   "id": "81c027f4",
   "metadata": {},
   "outputs": [
    {
     "name": "stdout",
     "output_type": "stream",
     "text": [
      "0.9084082308420057\n"
     ]
    }
   ],
   "source": [
    "print(accuracy_score(Y_test,predictions))"
   ]
  },
  {
   "cell_type": "code",
   "execution_count": null,
   "id": "5a56f53d",
   "metadata": {},
   "outputs": [],
   "source": [
    "from sklearn.neural_network import MLPClassifier\n",
    "model = MLPClassifier(hidden_layer_sizes=(10,))\n",
    "model.fit(X, Y)\n",
    "importance = model.coefs_[0].mean(axis=0)\n",
    "\n",
    "# Print the feature importance values\n",
    "print(\"Feature importance:\", importance)"
   ]
  },
  {
   "cell_type": "code",
   "execution_count": null,
   "id": "9a6d200c",
   "metadata": {},
   "outputs": [],
   "source": [
    "sns.barplot(x='features', y='importance', data=heart_data)"
   ]
  },
  {
   "cell_type": "code",
   "execution_count": null,
   "id": "081592f9",
   "metadata": {},
   "outputs": [],
   "source": [
    "import eli5\n",
    "from eli5.sklearn import PermutationImportance"
   ]
  },
  {
   "cell_type": "code",
   "execution_count": null,
   "id": "dee6a8ca",
   "metadata": {},
   "outputs": [],
   "source": [
    "perm = PermutationImportance(ann, random_state=1).fit(X_test,Y_test)\n",
    "eli5.show_weights(perm, feature_names = X_test.columns.tolist())"
   ]
  },
  {
   "cell_type": "code",
   "execution_count": null,
   "id": "c256a345",
   "metadata": {},
   "outputs": [],
   "source": [
    "# Initialize a list of results\n",
    "results = []\n"
   ]
  },
  {
   "cell_type": "code",
   "execution_count": null,
   "id": "a2d1cc65",
   "metadata": {},
   "outputs": [],
   "source": [
    "from sklearn.metrics import mean_squared_error\n",
    "rmse_full_mod = mean_squared_error(model.predict(X_test), Y_test, squared = False)"
   ]
  },
  {
   "cell_type": "code",
   "execution_count": null,
   "id": "dd51a531",
   "metadata": {},
   "outputs": [],
   "source": [
    "# Iterate through each predictor\n",
    "for predictor in X_test:\n",
    "    \n",
    "    # Create a copy of X_test\n",
    "    X_test_copy = X_test.copy()\n",
    "    \n",
    "    # Scramble the values of the given predictor\n",
    "    X_test_copy[predictor] = X_test[predictor].sample(frac=1).values\n",
    "    \n",
    "    # Calculate the new RMSE\n",
    "    new_rmse = mean_squared_error(model.predict(X_test_copy), Y_test,\n",
    "                                  squared = False)\n",
    "    \n",
    "    # Append the increase in MSE to the list of results \n",
    "    results.append({'pred': predictor,\n",
    "                    'score': new_rmse - rmse_full_mod })"
   ]
  },
  {
   "cell_type": "code",
   "execution_count": null,
   "id": "34831132",
   "metadata": {},
   "outputs": [],
   "source": [
    "# Convert to a pandas dataframe and rank the predictors by score\n",
    "resultsdf = pd.DataFrame(results).sort_values(by = 'score',\n",
    "                                              ascending = False)"
   ]
  },
  {
   "cell_type": "code",
   "execution_count": null,
   "id": "ef440483",
   "metadata": {},
   "outputs": [],
   "source": [
    "resultsdf"
   ]
  },
  {
   "cell_type": "code",
   "execution_count": null,
   "id": "a97b1846",
   "metadata": {},
   "outputs": [],
   "source": [
    "resultsdf.plot(x ='pred', y ='score', kind='bar')"
   ]
  },
  {
   "cell_type": "code",
   "execution_count": null,
   "id": "7cd1dd0e",
   "metadata": {},
   "outputs": [],
   "source": []
  }
 ],
 "metadata": {
  "kernelspec": {
   "display_name": "Python 3 (ipykernel)",
   "language": "python",
   "name": "python3"
  },
  "language_info": {
   "codemirror_mode": {
    "name": "ipython",
    "version": 3
   },
   "file_extension": ".py",
   "mimetype": "text/x-python",
   "name": "python",
   "nbconvert_exporter": "python",
   "pygments_lexer": "ipython3",
   "version": "3.10.9"
  }
 },
 "nbformat": 4,
 "nbformat_minor": 5
}
